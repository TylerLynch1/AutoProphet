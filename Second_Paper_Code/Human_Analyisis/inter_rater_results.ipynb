{
 "cells": [
  {
   "cell_type": "code",
   "execution_count": null,
   "metadata": {},
   "outputs": [],
   "source": [
    "import pandas as pd \n",
    "from sklearn.metrics import cohen_kappa_score\n",
    "from scipy import stats "
   ]
  },
  {
   "cell_type": "code",
   "execution_count": null,
   "metadata": {},
   "outputs": [],
   "source": [
    "rater_1_df = pd.read_csv(\"jeff_file.csv\")"
   ]
  },
  {
   "cell_type": "code",
   "execution_count": null,
   "metadata": {},
   "outputs": [],
   "source": [
    "rater_1_df.drop(columns= ['Unnamed: 3'], inplace=True)"
   ]
  },
  {
   "cell_type": "code",
   "execution_count": null,
   "metadata": {},
   "outputs": [],
   "source": [
    "rater_1_df.isnull().sum()"
   ]
  },
  {
   "cell_type": "code",
   "execution_count": null,
   "metadata": {},
   "outputs": [],
   "source": [
    "rater_1_df.shape"
   ]
  },
  {
   "cell_type": "code",
   "execution_count": null,
   "metadata": {},
   "outputs": [],
   "source": [
    "rater_3_df = pd.read_csv(\"jun_dai_file.csv\")"
   ]
  },
  {
   "cell_type": "code",
   "execution_count": null,
   "metadata": {},
   "outputs": [],
   "source": [
    "rater_3_df.isnull().sum()"
   ]
  },
  {
   "cell_type": "code",
   "execution_count": null,
   "metadata": {},
   "outputs": [],
   "source": [
    "rater_3_df.shape"
   ]
  },
  {
   "cell_type": "code",
   "execution_count": null,
   "metadata": {},
   "outputs": [],
   "source": [
    "rater_2_df = pd.read_csv(\"Xin_Li_file.csv\")"
   ]
  },
  {
   "cell_type": "code",
   "execution_count": null,
   "metadata": {},
   "outputs": [],
   "source": [
    "rater_2_df.isnull().sum()"
   ]
  },
  {
   "cell_type": "code",
   "execution_count": null,
   "metadata": {},
   "outputs": [],
   "source": [
    "rater_2_df.shape"
   ]
  },
  {
   "cell_type": "code",
   "execution_count": null,
   "metadata": {},
   "outputs": [],
   "source": [
    "rater_1_df.rename(columns= {\n",
    "    \"Rating\" : \"rater1_rating\"\n",
    "}, inplace=True)\n",
    "\n",
    "rater_2_df.rename(columns= {\n",
    "    \"Rating\" : \"rater3__rating\"\n",
    "}, inplace=True)\n",
    "\n",
    "rater_2_df.rename(columns= {\n",
    "    \"Rating\" : \"rater2_rating\"\n",
    "}, inplace=True)"
   ]
  },
  {
   "cell_type": "code",
   "execution_count": null,
   "metadata": {},
   "outputs": [],
   "source": [
    "all_rating_df = rater_1_df.merge(rater_3_df, on = ['Question', 'Answer'], how = 'outer')\n",
    "all_rating_df = all_rating_df.merge(rater_2_df, on= ['Question', 'Answer'], how = 'outer')"
   ]
  },
  {
   "cell_type": "code",
   "execution_count": null,
   "metadata": {},
   "outputs": [],
   "source": [
    "all_rating_df[all_rating_df.isna().any(axis=1)]"
   ]
  },
  {
   "cell_type": "code",
   "execution_count": null,
   "metadata": {},
   "outputs": [],
   "source": [
    "all_rating_df.loc[28,'rater2_rating'] = 3.0\n",
    "all_rating_df.loc[56,'rater2_rating'] = 4.0\n",
    "all_rating_df.loc[74,'rater2_rating'] = 3.0\n",
    "all_rating_df.loc[79,'rater2_rating'] = 4.0\n",
    "# becuase of same coloumns "
   ]
  },
  {
   "cell_type": "code",
   "execution_count": null,
   "metadata": {},
   "outputs": [],
   "source": [
    "all_rating_df[all_rating_df.isna().any(axis=1)]"
   ]
  },
  {
   "cell_type": "code",
   "execution_count": null,
   "metadata": {},
   "outputs": [],
   "source": [
    "all_rating_df.dropna(inplace=True)"
   ]
  },
  {
   "cell_type": "code",
   "execution_count": null,
   "metadata": {},
   "outputs": [],
   "source": [
    "all_rating_df"
   ]
  },
  {
   "cell_type": "code",
   "execution_count": null,
   "metadata": {},
   "outputs": [],
   "source": [
    "mean_std_df = all_rating_df[['rater1_rating', 'rater3_rating', 'rater2_rating']].agg(['mean', 'std']).T\n",
    "mean_std_df"
   ]
  },
  {
   "cell_type": "code",
   "execution_count": null,
   "metadata": {},
   "outputs": [],
   "source": [
    "kappa_jeff_jun = round(cohen_kappa_score(all_rating_df['rater1_rating'], all_rating_df['rater3_rating'], weights='linear'),4)\n",
    "kappa_jeff_xin = round(cohen_kappa_score(all_rating_df['rater1_rating'], all_rating_df['rater2_rating'], weights='linear'),4)\n",
    "kappa_jun_xin = round(cohen_kappa_score(all_rating_df['rater3_rating'], all_rating_df['rater2_rating'], weights='linear'),4)\n",
    "\n",
    "# Calculate Pearson correlation for pairs of raters\n",
    "pearson_jeff_jun = round(stats.pearsonr(all_rating_df['rater1_rating'], all_rating_df['rater3_rating'])[0],4)\n",
    "pearson_jeff_xin = round(stats.pearsonr(all_rating_df['rater1_rating'], all_rating_df['rater2_rating'])[0],4)\n",
    "pearson_jun_xin = round(stats.pearsonr(all_rating_df['rater3_rating'], all_rating_df['rater2_rating'])[0],4)\n",
    "\n",
    "print(f\"\\nCohen's Kappa between rater 1 and rater 3: {kappa_jeff_jun}\")\n",
    "print(f\"Cohen's Kappa between rater 1 and rater 2: {kappa_jeff_xin}\")\n",
    "print(f\"Cohen's Kappa between rater 3 and rater 2: {kappa_jun_xin}\")\n",
    "\n",
    "print(f\"\\nPearson correlation between rater 1 and rater 3: {pearson_jeff_jun}\")\n",
    "print(f\"Pearson correlation between rater 1 and rater 2: {pearson_jeff_xin}\")\n",
    "print(f\"Pearson correlation between rater 3 and rater 2: {pearson_jun_xin}\")"
   ]
  },
  {
   "cell_type": "code",
   "execution_count": null,
   "metadata": {},
   "outputs": [],
   "source": [
    "mean_std_df = all_rating_df[['rater1_rating', 'rater3_rating', 'rater2_rating']].agg(['mean', 'std']).T\n",
    "mean_std_df"
   ]
  },
  {
   "cell_type": "code",
   "execution_count": null,
   "metadata": {},
   "outputs": [],
   "source": []
  }
 ],
 "metadata": {
  "kernelspec": {
   "display_name": ".venv",
   "language": "python",
   "name": "python3"
  },
  "language_info": {
   "codemirror_mode": {
    "name": "ipython",
    "version": 3
   },
   "file_extension": ".py",
   "mimetype": "text/x-python",
   "name": "python",
   "nbconvert_exporter": "python",
   "pygments_lexer": "ipython3",
   "version": "3.12.2"
  }
 },
 "nbformat": 4,
 "nbformat_minor": 2
}
