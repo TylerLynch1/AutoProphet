{
 "cells": [
  {
   "cell_type": "code",
   "execution_count": 1,
   "metadata": {},
   "outputs": [],
   "source": [
    "import pandas as pd \n",
    "import json\n",
    "from transformers import AutoTokenizer"
   ]
  },
  {
   "cell_type": "code",
   "execution_count": 2,
   "metadata": {},
   "outputs": [
    {
     "name": "stderr",
     "output_type": "stream",
     "text": [
      "Special tokens have been added in the vocabulary, make sure the associated word embeddings are fine-tuned or trained.\n",
      "You set `add_prefix_space`. The tokenizer needs to be converted from the slow tokenizers\n",
      "Special tokens have been added in the vocabulary, make sure the associated word embeddings are fine-tuned or trained.\n"
     ]
    }
   ],
   "source": [
    "tokenizer = AutoTokenizer.from_pretrained(\"model_path_here\")\n",
    "\n"
   ]
  },
  {
   "cell_type": "code",
   "execution_count": 3,
   "metadata": {},
   "outputs": [
    {
     "data": {
      "text/plain": [
       "Index(['input', 'Human_output', 'instruction', 'messages',\n",
       "       'original_ouput_without_sys_prompt',\n",
       "       'modified_output_without_sys_prompt', 'not_fine_tuned_model_output',\n",
       "       'input_with_sys_prompt', 'original_ouput_with_sys_prompt',\n",
       "       'modified_output_with_sys_prompt'],\n",
       "      dtype='object')"
      ]
     },
     "execution_count": 3,
     "metadata": {},
     "output_type": "execute_result"
    }
   ],
   "source": [
    "df = pd.read_csv(\"combined_file_with_and_without_sys_prompt.csv\")\n",
    "df.columns"
   ]
  },
  {
   "cell_type": "code",
   "execution_count": 6,
   "metadata": {},
   "outputs": [],
   "source": [
    "def generate_json(col_name):\n",
    "    output_file = f\"tokenized_{col_name}.jsonl\"\n",
    "\n",
    "    with open(output_file, 'w') as f:\n",
    "        for text in df[col_name]:\n",
    "            text = str(text)\n",
    "            tokens = tokenizer.encode(text, add_special_tokens=False)\n",
    "            json_line = json.dumps({\"tokens\": tokens})\n",
    "            f.write(json_line + '\\n')\n",
    "        print(f\" {col_name} token Generation Completed \")"
   ]
  },
  {
   "cell_type": "code",
   "execution_count": 8,
   "metadata": {},
   "outputs": [
    {
     "name": "stdout",
     "output_type": "stream",
     "text": [
      " Human_output token Generation Completed \n",
      " modified_output_without_sys_prompt token Generation Completed \n",
      " not_fine_tuned_model_output token Generation Completed \n",
      " modified_output_with_sys_prompt token Generation Completed \n"
     ]
    }
   ],
   "source": [
    "generate_json('Human_output')\n",
    "generate_json('modified_output_without_sys_prompt')\n",
    "generate_json('not_fine_tuned_model_output')\n",
    "generate_json('modified_output_with_sys_prompt')"
   ]
  },
  {
   "cell_type": "code",
   "execution_count": null,
   "metadata": {},
   "outputs": [],
   "source": []
  }
 ],
 "metadata": {
  "kernelspec": {
   "display_name": ".venv",
   "language": "python",
   "name": "python3"
  },
  "language_info": {
   "codemirror_mode": {
    "name": "ipython",
    "version": 3
   },
   "file_extension": ".py",
   "mimetype": "text/x-python",
   "name": "python",
   "nbconvert_exporter": "python",
   "pygments_lexer": "ipython3",
   "version": "3.12.2"
  }
 },
 "nbformat": 4,
 "nbformat_minor": 2
}
